{
 "cells": [
  {
   "cell_type": "code",
   "execution_count": 1,
   "metadata": {
    "collapsed": true
   },
   "outputs": [],
   "source": [
    "import json"
   ]
  },
  {
   "cell_type": "code",
   "execution_count": 2,
   "metadata": {
    "collapsed": true
   },
   "outputs": [],
   "source": [
    "with open('Mapping.json') as data_file:    \n",
    "    data = json.load(data_file)\n"
   ]
  },
  {
   "cell_type": "code",
   "execution_count": 6,
   "metadata": {
    "collapsed": false
   },
   "outputs": [
    {
     "data": {
      "text/plain": [
       "\"{u'C': u'Analog.Basic.Capacitor', u'e': u'Analog.Basic.VCV', u'd': u'Analog.Semiconductors.Diode', u'g': u'Analog.Basic.VCC', u'f': u'Analog.Basic.CCC', u'h': u'Analog.Basic.CCV', u'L': u'Analog.Basic.Inductor', u'0': u'Analog.Basic.Ground', u'R': u'Analog.Basic.Resistor', u'gnd': u'Analog.Basic.Ground', u'v': {u'pwl': u'Analog.Sources.TableVoltage', u'sine': u'Analog.Sources.SineVoltage', u'dc': u'Analog.Sources.ConstantVoltage', u'pulse': u'Analog.Sources.TrapezoidVoltage'}}\""
      ]
     },
     "execution_count": 6,
     "metadata": {},
     "output_type": "execute_result"
    }
   ],
   "source": [
    "data['Components']['Analog']"
   ]
  },
  {
   "cell_type": "code",
   "execution_count": null,
   "metadata": {
    "collapsed": true
   },
   "outputs": [],
   "source": []
  }
 ],
 "metadata": {
  "kernelspec": {
   "display_name": "Python 2",
   "language": "python",
   "name": "python2"
  },
  "language_info": {
   "codemirror_mode": {
    "name": "ipython",
    "version": 2
   },
   "file_extension": ".py",
   "mimetype": "text/x-python",
   "name": "python",
   "nbconvert_exporter": "python",
   "pygments_lexer": "ipython2",
   "version": "2.7.3"
  }
 },
 "nbformat": 4,
 "nbformat_minor": 0
}
